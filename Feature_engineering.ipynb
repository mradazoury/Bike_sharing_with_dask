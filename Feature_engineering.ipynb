{
 "cells": [
  {
   "cell_type": "code",
   "execution_count": 14,
   "metadata": {},
   "outputs": [
    {
     "name": "stdout",
     "output_type": "stream",
     "text": [
      "The autoreload extension is already loaded. To reload it, use:\n",
      "  %reload_ext autoreload\n"
     ]
    }
   ],
   "source": [
    "# To automatically reload the function file \n",
    "%load_ext autoreload\n",
    "%aimport My_functions\n",
    "%run My_functions.py\n",
    "%autoreload 1\n",
    "%matplotlib inline\n",
    "warnings.simplefilter(action='ignore')"
   ]
  },
  {
   "cell_type": "code",
   "execution_count": 3,
   "metadata": {},
   "outputs": [],
   "source": [
    "client = Client()"
   ]
  },
  {
   "cell_type": "code",
   "execution_count": 4,
   "metadata": {},
   "outputs": [],
   "source": [
    "# Data Import\n",
    "hourly_raw_data = dd.read_csv(\"hour.csv\", blocksize=16e4)"
   ]
  },
  {
   "cell_type": "code",
   "execution_count": 5,
   "metadata": {},
   "outputs": [
    {
     "data": {
      "text/plain": [
       "Dask Series Structure:\n",
       "npartitions=8\n",
       "    datetime64[ns]\n",
       "               ...\n",
       "         ...      \n",
       "               ...\n",
       "               ...\n",
       "dtype: datetime64[ns]\n",
       "Dask Name: to_datetime, 40 tasks"
      ]
     },
     "execution_count": 5,
     "metadata": {},
     "output_type": "execute_result"
    }
   ],
   "source": [
    "### Changing the date type\n",
    "hourly_raw_data[\"dteday\"].map_partitions(\n",
    "    pd.to_datetime, format=\"%Y-%m-%d\", meta=(\"datetime64[ns]\")\n",
    ")"
   ]
  },
  {
   "cell_type": "markdown",
   "metadata": {},
   "source": [
    "### Adding the temp atemp windspeed hum relative to the last 7 days value\n"
   ]
  },
  {
   "cell_type": "code",
   "execution_count": 8,
   "metadata": {},
   "outputs": [],
   "source": [
    "to_relative = [\"temp\", \"atemp\", \"hum\", \"windspeed\"]\n",
    "hourly_raw_data = relative_values(hourly_raw_data, to_relative)"
   ]
  },
  {
   "cell_type": "markdown",
   "metadata": {},
   "source": [
    "### Adding `RushHour-High` &    `RushHour-Med`  &   `RushHour-Low`\n"
   ]
  },
  {
   "cell_type": "code",
   "execution_count": 9,
   "metadata": {},
   "outputs": [],
   "source": [
    "hourly_raw_data[\"RushHour-High\"] = 0\n",
    "hourly_raw_data[\"RushHour-Med\"] = 0\n",
    "hourly_raw_data[\"RushHour-Low\"] = 0\n",
    "hourly_raw_data = hourly_raw_data.map_partitions(\n",
    "    lambda df: df.apply(lambda x: addRushHourFlags(x), axis=1)\n",
    ")"
   ]
  },
  {
   "cell_type": "markdown",
   "metadata": {},
   "source": [
    "## Splitting Data"
   ]
  },
  {
   "cell_type": "code",
   "execution_count": 10,
   "metadata": {},
   "outputs": [],
   "source": [
    "workingdays = num_name(hourly_raw_data.loc[(hourly_raw_data[\"workingday\"].isin([1]))])\n",
    "holidays = num_name(hourly_raw_data.loc[(~hourly_raw_data[\"workingday\"].isin([1]))])"
   ]
  },
  {
   "cell_type": "markdown",
   "metadata": {},
   "source": [
    "## Mean of the past 3 weeks during the same hour"
   ]
  },
  {
   "cell_type": "code",
   "execution_count": 11,
   "metadata": {},
   "outputs": [],
   "source": [
    "# holidays['mean_per_hour'] = 0\n",
    "# workingdays['mean_per_hour'] = 0\n",
    "# holidays = holidays.map_partitions(lambda df: df.apply(lambda x: mean_per_hour_3weeks_row(x , holidays), axis=1))\n",
    "# workingdays = workingdays.map_partitions(lambda df: df.apply(lambda x: mean_per_hour_3weeks_row(x , holidays), axis=1))"
   ]
  },
  {
   "cell_type": "markdown",
   "metadata": {},
   "source": [
    "### One hot Encoding | 2x for splitted datasets\n",
    "For `season`, `weathersit`, `mnth`,`weekday`,`hr`"
   ]
  },
  {
   "cell_type": "code",
   "execution_count": 12,
   "metadata": {},
   "outputs": [],
   "source": [
    "category = [\"season\", \"weathersit\", \"mnth\", \"weekday\", \"hr\"]\n",
    "\n",
    "workingdays = onehot_encode(workingdays, category)\n",
    "\n",
    "holidays = onehot_encode(holidays, category)"
   ]
  },
  {
   "cell_type": "markdown",
   "metadata": {},
   "source": [
    "## Genetic Programming | 2x for splitted datasets"
   ]
  },
  {
   "cell_type": "code",
   "execution_count": 15,
   "metadata": {},
   "outputs": [
    {
     "name": "stdout",
     "output_type": "stream",
     "text": [
      "    |   Population Average    |             Best Individual              |\n",
      "---- ------------------------- ------------------------------------------ ----------\n",
      " Gen   Length          Fitness   Length          Fitness      OOB Fitness  Time Left\n",
      "   0     8.11         0.100762        2         0.660207         0.643796      1.08m\n",
      "   1     6.83         0.352862        6         0.731759         0.717723     56.63s\n",
      "   2     4.48         0.584361        8         0.734132         0.728253     41.67s\n",
      "   3     5.55         0.590216        7         0.756784         0.726055     32.30s\n",
      "   4     6.27         0.634432       11         0.774373         0.753799     29.34s\n",
      "   5     9.18          0.63095       16         0.810326         0.801205     29.13s\n",
      "   6    12.67         0.649777       18         0.830625         0.821608     28.41s\n",
      "   7    18.05         0.684644       25         0.853502         0.858503     25.69s\n",
      "   8    23.90         0.723285       41         0.864501         0.860504     27.21s\n",
      "   9    28.76         0.751341       42         0.871191         0.862231     25.28s\n",
      "  10    32.64         0.765639       94          0.87525         0.872101     24.21s\n",
      "  11    32.62         0.767519       51         0.879856         0.865181     20.44s\n",
      "  12    34.43         0.779864       61         0.877528         0.877825     18.10s\n",
      "  13    34.19         0.788336       51         0.878497         0.877873     15.65s\n",
      "  14    33.74         0.793402       69          0.88124         0.881338     13.21s\n",
      "  15    33.03         0.792336       43         0.880958          0.87591     10.70s\n",
      "  16    31.63         0.777347       43         0.881582         0.869865      7.63s\n",
      "  17    30.71         0.774591       45         0.882314         0.873029      5.06s\n",
      "  18    28.32         0.749295       43         0.882497         0.861238      2.52s\n",
      "  19    26.79         0.739479       70         0.883036          0.86535      0.00s\n",
      "Number of features created out of genetic programing: (11865, 15)\n"
     ]
    }
   ],
   "source": [
    "dates = workingdays[\"dteday\"]\n",
    "registered = workingdays[\"registered\"]\n",
    "casual = workingdays[\"casual\"]\n",
    "instant = workingdays[\"instant\"]\n",
    "workingdays = Genetic_P(\n",
    "    workingdays.drop([\"registered\", \"casual\", \"dteday\", \"instant\"], axis=1), \"cnt\"\n",
    ")\n",
    "workingdays[\"instant\"] = instant\n",
    "workingdays[\"dteday\"] = dates\n",
    "workingdays[\"registered\"] = registered\n",
    "workingdays[\"casual\"] = casual"
   ]
  },
  {
   "cell_type": "code",
   "execution_count": 16,
   "metadata": {},
   "outputs": [
    {
     "name": "stdout",
     "output_type": "stream",
     "text": [
      "    |   Population Average    |             Best Individual              |\n",
      "---- ------------------------- ------------------------------------------ ----------\n",
      " Gen   Length          Fitness   Length          Fitness      OOB Fitness  Time Left\n",
      "   0     7.94           0.1202        3         0.772699         0.760499     22.75s\n",
      "   1     7.02         0.400414        6         0.776181         0.817996     28.05s\n",
      "   2     5.17         0.593223        8         0.799674         0.801326     26.36s\n",
      "   3     4.15         0.693106        7         0.802046         0.773434     25.07s\n",
      "   4     6.12         0.686993       12         0.817007         0.820478     21.75s\n",
      "   5     8.47             0.67       22         0.829299         0.838649     22.02s\n",
      "   6    10.69         0.633926       22         0.832744         0.807734     22.41s\n",
      "   7    11.96          0.63186       22         0.830962         0.824253     19.01s\n",
      "   8    13.71         0.609937       22         0.835431         0.781799     18.62s\n",
      "   9    15.16         0.617398       22         0.834563         0.792165     18.45s\n",
      "  10    18.09         0.627965       25          0.83551         0.834028     16.15s\n",
      "  11    19.62         0.645492       26         0.844828         0.859187     14.54s\n",
      "  12    21.01         0.647994       21         0.848439         0.856183     13.90s\n",
      "  13    21.14         0.656423       25         0.859833         0.864948     11.00s\n",
      "  14    21.47         0.655076       27         0.857204          0.87568      9.89s\n",
      "  15    21.68         0.660414       27          0.86058         0.846647      7.82s\n",
      "  16    22.45         0.668616       26           0.8619         0.856935      5.85s\n",
      "  17    22.76         0.684213       26         0.862167         0.850924      4.01s\n",
      "  18    22.77          0.68406       26         0.862777         0.846187      2.08s\n",
      "  19    22.99         0.691095       24         0.864687         0.821487      0.00s\n",
      "Number of features created out of genetic programing: (5508, 15)\n"
     ]
    }
   ],
   "source": [
    "instant = holidays[\"instant\"]\n",
    "dates = holidays[\"dteday\"]\n",
    "registered = holidays[\"registered\"]\n",
    "casual = holidays[\"casual\"]\n",
    "holidays = Genetic_P(\n",
    "    holidays.drop([\"registered\", \"casual\", \"dteday\", \"instant\"], axis=1), \"cnt\"\n",
    ")\n",
    "holidays[\"instant\"] = instant\n",
    "holidays[\"dteday\"] = dates\n",
    "holidays[\"registered\"] = registered\n",
    "holidays[\"casual\"] = casual"
   ]
  },
  {
   "cell_type": "code",
   "execution_count": 26,
   "metadata": {},
   "outputs": [],
   "source": [
    "workingdays.compute().to_csv(\"workingdays_data_prepared.csv\", index=False)\n",
    "holidays.compute().to_csv(\"holidays_data_prepared.csv\", index=False)"
   ]
  },
  {
   "cell_type": "code",
   "execution_count": null,
   "metadata": {},
   "outputs": [],
   "source": [
    "'"
   ]
  },
  {
   "cell_type": "code",
   "execution_count": null,
   "metadata": {},
   "outputs": [],
   "source": []
  },
  {
   "cell_type": "code",
   "execution_count": null,
   "metadata": {},
   "outputs": [],
   "source": []
  }
 ],
 "metadata": {
  "kernelspec": {
   "display_name": "Python 3",
   "language": "python",
   "name": "python3"
  },
  "language_info": {
   "codemirror_mode": {
    "name": "ipython",
    "version": 3
   },
   "file_extension": ".py",
   "mimetype": "text/x-python",
   "name": "python",
   "nbconvert_exporter": "python",
   "pygments_lexer": "ipython3",
   "version": "3.7.3"
  }
 },
 "nbformat": 4,
 "nbformat_minor": 2
}
